{
 "cells": [
  {
   "cell_type": "markdown",
   "metadata": {
    "colab_type": "text",
    "id": "view-in-github"
   },
   "source": [
    "<a href=\"https://colab.research.google.com/github/scudilio/Visualizacao_de_dados/blob/master/Import_Dataset_Colab.ipynb\" target=\"_parent\"><img src=\"https://colab.research.google.com/assets/colab-badge.svg\" alt=\"Open In Colab\"/></a>"
   ]
  },
  {
   "cell_type": "markdown",
   "metadata": {
    "colab_type": "text",
    "id": "DSJI-fJvEO43"
   },
   "source": [
    "#**3 Maneiras de Importar um Conjunto de Dados para o Google Colab**\n",
    "\n",
    "O Google Colab é uma plataforma gratuita do Google que permite utilizar o Python na nuvem.\n",
    "\n",
    "Ele é excelente para criar notebooks em Python e oferece GPU grátis para processar seus dados. Porém, existem algumas peculiaridades ao utilizá-lo, uma delas é a importação de dados. \n",
    "\n",
    "Esse artigo visa ensinar três maneiras distintas para você importar seus dados no Google Colab. \n",
    "\n",
    "1. Importando os dados do Google Drive.\n",
    "2. Importando os dados de um Drive local.\n",
    "3. Importando os dados do Github.\n",
    "\n",
    "\n",
    "## **1. Importando Dataset do Drive**\n",
    "\n",
    "Uma das maneiras de importar o conjunto de dados para o Colab é salvar o dataset no Google Drive e depois importar o mesmo para o Colab. \n",
    "\n",
    "Para isso precisamos permitir o acesso do Google Colab ao drive. Para acessar o drive, siga os seguintes passos;\n",
    "\n",
    "1. Rode os comandos a baixo.\n",
    "2. Clique no link.\n",
    "3. Na janela que abriu, clique na sua conta do Google.\n",
    "4. Copie o código de acesso.\n",
    "5. Cole o código na caixa abaixo.\n",
    "\n"
   ]
  },
  {
   "cell_type": "code",
   "execution_count": 1,
   "metadata": {
    "colab": {},
    "colab_type": "code",
    "id": "Hn6zLi54GJ1J"
   },
   "outputs": [
    {
     "ename": "ModuleNotFoundError",
     "evalue": "No module named 'google'",
     "output_type": "error",
     "traceback": [
      "\u001b[0;31m---------------------------------------------------------------------------\u001b[0m",
      "\u001b[0;31mModuleNotFoundError\u001b[0m                       Traceback (most recent call last)",
      "\u001b[0;32m<ipython-input-1-bbc591726153>\u001b[0m in \u001b[0;36m<module>\u001b[0;34m\u001b[0m\n\u001b[1;32m      1\u001b[0m \u001b[0;31m#Acesso ao drive\u001b[0m\u001b[0;34m\u001b[0m\u001b[0;34m\u001b[0m\u001b[0;34m\u001b[0m\u001b[0m\n\u001b[0;32m----> 2\u001b[0;31m \u001b[0;32mfrom\u001b[0m \u001b[0mgoogle\u001b[0m\u001b[0;34m.\u001b[0m\u001b[0mcolab\u001b[0m \u001b[0;32mimport\u001b[0m \u001b[0mdrive\u001b[0m\u001b[0;34m\u001b[0m\u001b[0;34m\u001b[0m\u001b[0m\n\u001b[0m\u001b[1;32m      3\u001b[0m \u001b[0mdrive\u001b[0m\u001b[0;34m.\u001b[0m\u001b[0mmount\u001b[0m\u001b[0;34m(\u001b[0m\u001b[0;34m'/content/drive'\u001b[0m\u001b[0;34m)\u001b[0m\u001b[0;34m\u001b[0m\u001b[0;34m\u001b[0m\u001b[0m\n",
      "\u001b[0;31mModuleNotFoundError\u001b[0m: No module named 'google'"
     ]
    }
   ],
   "source": [
    "#Acesso ao drive\n",
    "from google.colab import drive\n",
    "drive.mount('/content/drive')"
   ]
  },
  {
   "cell_type": "code",
   "execution_count": null,
   "metadata": {
    "colab": {},
    "colab_type": "code",
    "id": "IVLQuEd-GOV5"
   },
   "outputs": [],
   "source": [
    "##IMPORTANDO o data set\n",
    "import pandas as pd\n",
    "df = pd.read_excel('/content/drive/My Drive/kaggle_datasets/gapminder_final.xlsx')\n",
    "df.head()"
   ]
  },
  {
   "cell_type": "markdown",
   "metadata": {
    "colab_type": "text",
    "id": "7BYJxNVAGPTM"
   },
   "source": [
    "##**2. Importando o Dataset um Drive Local**\n",
    "\n",
    "Se o conjunto de dados estiver salvo no seu computador, podemos utilizar os comandos a seguir para importar o dataset.\n",
    "\n",
    "\n"
   ]
  },
  {
   "cell_type": "code",
   "execution_count": null,
   "metadata": {
    "colab": {},
    "colab_type": "code",
    "id": "Cp_Os2tsG02p"
   },
   "outputs": [],
   "source": [
    "from google.colab import files\n",
    "uploaded = files.upload()"
   ]
  },
  {
   "cell_type": "code",
   "execution_count": null,
   "metadata": {
    "colab": {},
    "colab_type": "code",
    "id": "rJNN84j7G1QV"
   },
   "outputs": [],
   "source": [
    "df = pd.read_excel('gapminder_final.xlsx')\n",
    "\n",
    "df.head()"
   ]
  },
  {
   "cell_type": "markdown",
   "metadata": {
    "colab_type": "text",
    "id": "PRSMB8MgJDGe"
   },
   "source": [
    "##**3. Importando o Dataset do Github**\n",
    "\n",
    "A maneira mais simples de importar o dataset para o Google Colab é utilizando o seu repósitorio do Github.\n",
    "\n",
    "Para isso é só salvar o conjunto de dados no seu repositório, copiar a url do dataset e adicionar \"?raw=true\" ao final da url.\n",
    "\n",
    "Se for um arquivo csv é só clicar no dataset e depois clique em raw e copiar a url."
   ]
  },
  {
   "cell_type": "code",
   "execution_count": null,
   "metadata": {
    "colab": {},
    "colab_type": "code",
    "id": "DqtXYrt4J8V8"
   },
   "outputs": [],
   "source": [
    "url = ('https://github.com/scudilio/Visualizacao_de_dados/blob/master/datasets/gapminder_final.xlsx?raw=true')\n",
    "df = pd.read_excel(url)"
   ]
  },
  {
   "cell_type": "markdown",
   "metadata": {
    "colab_type": "text",
    "id": "neC3-1C7Kwua"
   },
   "source": [
    "Pronto essa são as três maneiras que você pode utilizar para importar seus dados para o Google Colab.\n",
    "\n",
    "Agora você já pode começar suas análise de dados. "
   ]
  }
 ],
 "metadata": {
  "colab": {
   "authorship_tag": "ABX9TyOeDU2WFT4utXgu7oqUTw+W",
   "include_colab_link": true,
   "name": "Import-Dataset-Colab.ipynb",
   "provenance": []
  },
  "kernelspec": {
   "display_name": "Python 3",
   "language": "python",
   "name": "python3"
  },
  "language_info": {
   "codemirror_mode": {
    "name": "ipython",
    "version": 3
   },
   "file_extension": ".py",
   "mimetype": "text/x-python",
   "name": "python",
   "nbconvert_exporter": "python",
   "pygments_lexer": "ipython3",
   "version": "3.7.6"
  }
 },
 "nbformat": 4,
 "nbformat_minor": 1
}
